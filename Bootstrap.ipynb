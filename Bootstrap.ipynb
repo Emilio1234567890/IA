{
 "cells": [
  {
   "cell_type": "code",
   "execution_count": null,
   "id": "30fa958e-acf4-4b53-ac3e-48682f88f315",
   "metadata": {},
   "outputs": [],
   "source": [
    "import numpy as np\n",
    "from tensorflow import keras\n",
    "from tensorflow.keras import optimizers\n",
    "from tensorflow.keras.models import Sequential\n",
    "from tensorflow.keras.layers import Dense\n",
    "\n",
    "\n",
    "from tensorflow.keras.datasets import mnist\n",
    "from tensorflow.keras.utils import to_categorical\n",
    "\n",
    "#Telécharge les donnes\n",
    "(X_train_data, Y_train_data), (X_test_data, Y_test_data) = mnist.load_data()\n",
    "\n",
    "N = X_train_data.shape[0]  #N =  60 000 données\n",
    "\n",
    "#Données d'apprentissage X\n",
    "X_train = np.reshape(X_train_data,(N,784)) #vercteur image\n",
    "X_train = X_train/255  # normalisation\n",
    "\n",
    "#Données d'apprentissages Y vers une liste de taille 10\n",
    "Y_train = to_categorical(Y_train_data, num_classes=10)\n",
    "\n",
    "X_test = np.reshape(X_test_data,(X_test_data.shape[0],784))\n",
    "X_test = X_test/255\n",
    "Y_test = to_categorical(Y_test_data, num_classes=10)\n",
    "\n",
    "# Partie B Les réseaux de neuronnes\n",
    "\n",
    "p = 128\n",
    "modele = Sequential()\n",
    "\n",
    "# Première couche de p neuronnes (entrée 784 28x28)\n",
    "modele.add(Dense(p, input_dim=784, activation= 'sigmoid'))\n",
    "\n",
    "# Deuxième couche de P neuronne avec 8 entrée\n",
    "modele.add(Dense(p, activation= 'sigmoid'))\n",
    "\n",
    "# Couche de sortie de P neuronnes avec 10 sortie\n",
    "modele.add(Dense(10, activation= 'softmax'))\n",
    "\n",
    "#Choix de la méthode de descente de gradiant\n",
    "modele.compile(loss='categorical_crossentropy', optimizer='sgd', metrics=['accuracy'] )\n",
    "\n",
    "print(modele.summary())\n",
    "\n",
    "# Partie C Calcul des poix par descente de gradiant\n",
    "\n",
    "modele.fit(X_train, Y_train, batch_size=32, epochs=10)\n",
    "\n",
    "# Partie D Affichage des résultats\n",
    "resultat= modele.evaluate(X_test, Y_test)\n",
    "print ('valeur de la fonction erreur sur les donnée de test (loss):', resultat[0])\n",
    "print ('Precision sur les donnée de test (accuracy):', resultat[1])\n"
   ]
  },
  {
   "cell_type": "markdown",
   "id": "9019c387-c1fa-4a97-a190-ca760d6fe662",
   "metadata": {},
   "source": [
    "Un autre example de code "
   ]
  },
  {
   "cell_type": "code",
   "execution_count": null,
   "id": "50137511-c5ce-40d7-a099-65e0f7e87c9d",
   "metadata": {},
   "outputs": [],
   "source": [
    "import tensorflow as tf\n",
    "\n",
    "mnist = tf.keras.datasets.mnist\n",
    "\n",
    "(X_train, Y_train), (X_test, Y_test) = mnist.load_data()\n",
    "\n",
    "X_train = tf.keras.utils.normalize(X_train, axis=1)\n",
    "X_test = tf.keras.utils.normalize(X_test, axis=1)\n",
    "\n",
    "model = tf.keras.models.Sequential()\n",
    "model.add(tf.keras.layers.Flatten())\n",
    "model.add(tf.keras.layers.Dense(128, activation=tf.nn.relu))\n",
    "model.add(tf.keras.layers.Dense(128, activation=tf.nn.relu))\n",
    "model.add(tf.keras.layers.Dense(10, activation=tf.nn.softmax))\n",
    "\n",
    "model.compile(optimizer=\"adam\", loss= \"sparse_categorical_crossentropy\", metrics=['accuracy'])\n",
    "model.fit(X_train, Y_train, epochs=4)"
   ]
  }
 ],
 "metadata": {
  "kernelspec": {
   "display_name": "Python 3 (ipykernel)",
   "language": "python",
   "name": "python3"
  },
  "language_info": {
   "codemirror_mode": {
    "name": "ipython",
    "version": 3
   },
   "file_extension": ".py",
   "mimetype": "text/x-python",
   "name": "python",
   "nbconvert_exporter": "python",
   "pygments_lexer": "ipython3",
   "version": "3.11.2"
  }
 },
 "nbformat": 4,
 "nbformat_minor": 5
}
